{
 "cells": [
  {
   "cell_type": "markdown",
   "id": "445332c7",
   "metadata": {},
   "source": [
    "**Purpose**: Extract data from website into CSV files"
   ]
  },
  {
   "cell_type": "code",
   "execution_count": 1,
   "id": "e848db9c",
   "metadata": {},
   "outputs": [],
   "source": [
    "actual_cohort = 6"
   ]
  },
  {
   "cell_type": "code",
   "execution_count": 2,
   "id": "59989079",
   "metadata": {},
   "outputs": [],
   "source": [
    "import base64\n",
    "import datetime\n",
    "import pandas as pd\n",
    "import yaml\n",
    "from github import Github\n",
    "from pathlib import Path"
   ]
  },
  {
   "cell_type": "markdown",
   "id": "c495ecba",
   "metadata": {},
   "source": [
    "Usage:\n",
    "- Generate a Personal access tokens on GitHub (Settings - Developer settings - Personal access token)\n",
    "- Add it to the `../config.yml` after `github:`\n",
    "\n"
   ]
  },
  {
   "cell_type": "code",
   "execution_count": 3,
   "id": "a009cf59",
   "metadata": {},
   "outputs": [],
   "source": [
    "# get a GitHub token\n",
    "with open(\"../config.yml\", \"r\") as stream:\n",
    "    config = yaml.load(stream, Loader=yaml.FullLoader)\n",
    "token = config['github']\n",
    "if token is None:\n",
    "    token = os.environ.get('GITHUB_TOKEN', None)"
   ]
  },
  {
   "cell_type": "code",
   "execution_count": 4,
   "id": "6c0e8427",
   "metadata": {},
   "outputs": [],
   "source": [
    "# connect to GitHub\n",
    "g = Github(token)\n",
    "# to get limit of API request: g.get_rate_limit()\n",
    "# retrieve the hub repository\n",
    "repo = g.get_user(\"open-life-science\").get_repo(\"open-life-science.github.io\")"
   ]
  },
  {
   "cell_type": "markdown",
   "id": "97805760",
   "metadata": {},
   "source": [
    "Extraction date"
   ]
  },
  {
   "cell_type": "code",
   "execution_count": 5,
   "id": "8055ed44",
   "metadata": {},
   "outputs": [
    {
     "data": {
      "text/plain": [
       "'2022-10-27 16:11:48.135705'"
      ]
     },
     "execution_count": 5,
     "metadata": {},
     "output_type": "execute_result"
    }
   ],
   "source": [
    "str(datetime.datetime.now())"
   ]
  },
  {
   "cell_type": "markdown",
   "id": "76cf04de",
   "metadata": {},
   "source": [
    "# Get people information"
   ]
  },
  {
   "cell_type": "code",
   "execution_count": 6,
   "id": "7ecea999",
   "metadata": {},
   "outputs": [],
   "source": [
    "def read_yaml_file(fp, ref):\n",
    "    '''\n",
    "    Read a YAML file at a given git commit\n",
    "\n",
    "    :param fp: path to file on GitHub\n",
    "    :param ref: name of the commit/branch/tag\n",
    "\n",
    "    :return: set with contributor ids\n",
    "    '''\n",
    "    file_content = repo.get_contents(fp, ref=ref).content\n",
    "    decoded_file_content = base64.b64decode(file_content)\n",
    "    return yaml.load(decoded_file_content, Loader=yaml.FullLoader)"
   ]
  },
  {
   "cell_type": "code",
   "execution_count": 7,
   "id": "51779742",
   "metadata": {},
   "outputs": [],
   "source": [
    "people = read_yaml_file(\"_data/people.yaml\", \"main\")"
   ]
  },
  {
   "cell_type": "code",
   "execution_count": 8,
   "id": "cb54cb4c",
   "metadata": {},
   "outputs": [],
   "source": [
    "# remove some keys and add space for cohorts\n",
    "for key, value in people.items():\n",
    "    value.pop('affiliation', None)\n",
    "    value.pop('bio', None)\n",
    "    value.pop('orcid', None)\n",
    "    value.pop('twitter', None)\n",
    "    value.pop('website', None)\n",
    "    value.pop('github', None)\n",
    "    value.pop('title', None)\n",
    "    value.pop('expertise', None)\n",
    "    for i in range(1, actual_cohort+1):\n",
    "        value[f'ols-{i}'] = []"
   ]
  },
  {
   "cell_type": "markdown",
   "id": "88ba6756",
   "metadata": {},
   "source": [
    "# Get cohort informations"
   ]
  },
  {
   "cell_type": "code",
   "execution_count": 9,
   "id": "421b4f7e",
   "metadata": {},
   "outputs": [],
   "source": [
    "def update_people_info(p_list, p_dict, status, cohort_id):\n",
    "    '''\n",
    "    Update people attribute for a cohort\n",
    "\n",
    "    :param p_list: list of people id to update\n",
    "    :param p_dict: dictionary with people information\n",
    "    :param status: status to add\n",
    "    :param cohort_id: concerned cohort\n",
    "    '''\n",
    "    for p in p_list:\n",
    "        if p is None:\n",
    "            continue\n",
    "        if p not in p_dict:\n",
    "            print(f\"{p} not found in people\")\n",
    "            continue\n",
    "        p_dict[p][f'ols-{cohort_id}'].append(status)"
   ]
  },
  {
   "cell_type": "code",
   "execution_count": null,
   "id": "7635de10",
   "metadata": {
    "scrolled": true
   },
   "outputs": [
    {
     "name": "stdout",
     "output_type": "stream",
     "text": [
      "OLS 1\n",
      "Demellina not found in people\n",
      "JasonJWilliamsNY not found in people\n",
      "OLS 2\n",
      "natasha_wood not found in people\n",
      "ekinbolukbasi not found in people\n",
      "OLS 3\n",
      "OLS 4\n",
      "OLS 5\n"
     ]
    }
   ],
   "source": [
    "for i in range(1, actual_cohort+1):\n",
    "    print(f\"OLS {i}\")\n",
    "    # extract experts, facilitators, organizers from metadata\n",
    "    metadata = read_yaml_file(f\"_data/ols-{i}-metadata.yaml\" , \"main\")\n",
    "    update_people_info(metadata['experts'], people, 'expert', i)\n",
    "    if 'facilitators' in metadata:\n",
    "        update_people_info(metadata['facilitators'], people, 'facilitator', i)\n",
    "    update_people_info(metadata['organizers'], people, 'organizer', i)\n",
    "    # extract participants, mentors from projects\n",
    "    projects = read_yaml_file(f\"_data/ols-{i}-projects.yaml\", \"main\")\n",
    "    for p in projects:\n",
    "        update_people_info(p['participants'], people, 'participant', i)\n",
    "        update_people_info(p['mentors'], people, 'mentor', i)\n",
    "    # extract speakers from schedule\n",
    "    schedule = read_yaml_file(f\"_data/ols-{i}-schedule.yaml\", \"main\")\n",
    "    for w, week in schedule['weeks'].items():\n",
    "        for c in week['calls']:\n",
    "            if c['type'] == 'Cohort' and 'resources' in c and c['resources'] is not None:\n",
    "                for r in c['resources']:\n",
    "                    if r['type'] == 'slides' and 'speaker' in r and r['speaker'] is not None:\n",
    "                        update_people_info([r['speaker']], people, 'speaker', i)"
   ]
  },
  {
   "cell_type": "markdown",
   "id": "d2c0955e",
   "metadata": {},
   "source": [
    "# Export"
   ]
  },
  {
   "cell_type": "code",
   "execution_count": null,
   "id": "8210046d",
   "metadata": {},
   "outputs": [],
   "source": [
    "people_df['expertise']"
   ]
  },
  {
   "cell_type": "code",
   "execution_count": null,
   "id": "3ff21d2e",
   "metadata": {},
   "outputs": [],
   "source": [
    "people_df = pd.DataFrame.from_dict(people, orient='index')\n",
    "people_df['expertise'] = people_df['expertise'].apply(lambda x: ', '.join([str(i) for i in x]))\n",
    "for i in range(1, actual_cohort+1):\n",
    "    people_df[f'ols-{i}'] = people_df[f'ols-{i}'].apply(lambda x: ', '.join([str(i) for i in x]))"
   ]
  },
  {
   "cell_type": "code",
   "execution_count": null,
   "id": "aaf40c96",
   "metadata": {},
   "outputs": [],
   "source": [
    "people_df"
   ]
  },
  {
   "cell_type": "code",
   "execution_count": null,
   "id": "8236943c",
   "metadata": {},
   "outputs": [],
   "source": [
    "people_fp = Path('..') / Path('data') / Path('people.csv')\n",
    "people_df.to_csv(people_fp)"
   ]
  }
 ],
 "metadata": {
  "kernelspec": {
   "display_name": "Python 3 (ipykernel)",
   "language": "python",
   "name": "python3"
  },
  "language_info": {
   "codemirror_mode": {
    "name": "ipython",
    "version": 3
   },
   "file_extension": ".py",
   "mimetype": "text/x-python",
   "name": "python",
   "nbconvert_exporter": "python",
   "pygments_lexer": "ipython3",
   "version": "3.10.6"
  }
 },
 "nbformat": 4,
 "nbformat_minor": 5
}
