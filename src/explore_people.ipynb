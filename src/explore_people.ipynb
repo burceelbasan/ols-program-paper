{
 "cells": [
  {
   "cell_type": "code",
   "execution_count": 1,
   "id": "61f52b10",
   "metadata": {},
   "outputs": [],
   "source": [
    "import pandas as pd"
   ]
  },
  {
   "cell_type": "code",
   "execution_count": 11,
   "id": "5cb1d949",
   "metadata": {},
   "outputs": [],
   "source": [
    "people_df = pd.read_csv(\"../data/people.csv\", index_col=0)"
   ]
  },
  {
   "cell_type": "code",
   "execution_count": 12,
   "id": "c9d69669",
   "metadata": {},
   "outputs": [
    {
     "data": {
      "text/html": [
       "<div>\n",
       "<style scoped>\n",
       "    .dataframe tbody tr th:only-of-type {\n",
       "        vertical-align: middle;\n",
       "    }\n",
       "\n",
       "    .dataframe tbody tr th {\n",
       "        vertical-align: top;\n",
       "    }\n",
       "\n",
       "    .dataframe thead th {\n",
       "        text-align: right;\n",
       "    }\n",
       "</style>\n",
       "<table border=\"1\" class=\"dataframe\">\n",
       "  <thead>\n",
       "    <tr style=\"text-align: right;\">\n",
       "      <th></th>\n",
       "      <th>city</th>\n",
       "      <th>country</th>\n",
       "      <th>first-name</th>\n",
       "      <th>last-name</th>\n",
       "      <th>pronouns</th>\n",
       "      <th>country-alpha_3</th>\n",
       "      <th>continent</th>\n",
       "      <th>longitude</th>\n",
       "      <th>latitude</th>\n",
       "      <th>ols-1</th>\n",
       "      <th>ols-2</th>\n",
       "      <th>ols-3</th>\n",
       "      <th>ols-4</th>\n",
       "      <th>ols-5</th>\n",
       "      <th>ols-6</th>\n",
       "      <th>ols-7</th>\n",
       "    </tr>\n",
       "  </thead>\n",
       "  <tbody>\n",
       "    <tr>\n",
       "      <th>0sahene</th>\n",
       "      <td>Tamale</td>\n",
       "      <td>Ghana</td>\n",
       "      <td>Sitsofe</td>\n",
       "      <td>Morgah</td>\n",
       "      <td>He</td>\n",
       "      <td>GHA</td>\n",
       "      <td>Africa</td>\n",
       "      <td>-0.842399</td>\n",
       "      <td>9.405199</td>\n",
       "      <td>NaN</td>\n",
       "      <td>NaN</td>\n",
       "      <td>NaN</td>\n",
       "      <td>NaN</td>\n",
       "      <td>participant</td>\n",
       "      <td>NaN</td>\n",
       "      <td>NaN</td>\n",
       "    </tr>\n",
       "    <tr>\n",
       "      <th>0x174</th>\n",
       "      <td>Boston</td>\n",
       "      <td>United States</td>\n",
       "      <td>William</td>\n",
       "      <td>Jackson</td>\n",
       "      <td>He/Him</td>\n",
       "      <td>USA</td>\n",
       "      <td>North America</td>\n",
       "      <td>-71.060511</td>\n",
       "      <td>42.355433</td>\n",
       "      <td>NaN</td>\n",
       "      <td>NaN</td>\n",
       "      <td>participant</td>\n",
       "      <td>NaN</td>\n",
       "      <td>NaN</td>\n",
       "      <td>NaN</td>\n",
       "      <td>NaN</td>\n",
       "    </tr>\n",
       "    <tr>\n",
       "      <th>abdulelahsm</th>\n",
       "      <td>Dammam</td>\n",
       "      <td>Saudi Arabia</td>\n",
       "      <td>Abdulelah</td>\n",
       "      <td>Al Mesfer</td>\n",
       "      <td>he/him</td>\n",
       "      <td>SAU</td>\n",
       "      <td>Asia</td>\n",
       "      <td>50.103999</td>\n",
       "      <td>26.436782</td>\n",
       "      <td>NaN</td>\n",
       "      <td>NaN</td>\n",
       "      <td>participant</td>\n",
       "      <td>NaN</td>\n",
       "      <td>NaN</td>\n",
       "      <td>NaN</td>\n",
       "      <td>NaN</td>\n",
       "    </tr>\n",
       "    <tr>\n",
       "      <th>abraham-dabengwa</th>\n",
       "      <td>Johannesburg</td>\n",
       "      <td>South Africa</td>\n",
       "      <td>Abraham</td>\n",
       "      <td>Dabengwa</td>\n",
       "      <td>he/ him</td>\n",
       "      <td>ZAF</td>\n",
       "      <td>Africa</td>\n",
       "      <td>28.049722</td>\n",
       "      <td>-26.205000</td>\n",
       "      <td>NaN</td>\n",
       "      <td>NaN</td>\n",
       "      <td>NaN</td>\n",
       "      <td>NaN</td>\n",
       "      <td>participant</td>\n",
       "      <td>NaN</td>\n",
       "      <td>NaN</td>\n",
       "    </tr>\n",
       "    <tr>\n",
       "      <th>abretaud</th>\n",
       "      <td>Rennes</td>\n",
       "      <td>France</td>\n",
       "      <td>Anthony</td>\n",
       "      <td>Bretaudeau</td>\n",
       "      <td>He/him</td>\n",
       "      <td>FRA</td>\n",
       "      <td>Europe</td>\n",
       "      <td>-1.680020</td>\n",
       "      <td>48.111339</td>\n",
       "      <td>NaN</td>\n",
       "      <td>NaN</td>\n",
       "      <td>NaN</td>\n",
       "      <td>mentor</td>\n",
       "      <td>NaN</td>\n",
       "      <td>NaN</td>\n",
       "      <td>NaN</td>\n",
       "    </tr>\n",
       "    <tr>\n",
       "      <th>...</th>\n",
       "      <td>...</td>\n",
       "      <td>...</td>\n",
       "      <td>...</td>\n",
       "      <td>...</td>\n",
       "      <td>...</td>\n",
       "      <td>...</td>\n",
       "      <td>...</td>\n",
       "      <td>...</td>\n",
       "      <td>...</td>\n",
       "      <td>...</td>\n",
       "      <td>...</td>\n",
       "      <td>...</td>\n",
       "      <td>...</td>\n",
       "      <td>...</td>\n",
       "      <td>...</td>\n",
       "      <td>...</td>\n",
       "    </tr>\n",
       "    <tr>\n",
       "      <th>rhoné-roux</th>\n",
       "      <td>NaN</td>\n",
       "      <td>NaN</td>\n",
       "      <td>Rhoné</td>\n",
       "      <td>Roux</td>\n",
       "      <td>NaN</td>\n",
       "      <td>NaN</td>\n",
       "      <td>NaN</td>\n",
       "      <td>NaN</td>\n",
       "      <td>NaN</td>\n",
       "      <td>NaN</td>\n",
       "      <td>NaN</td>\n",
       "      <td>NaN</td>\n",
       "      <td>NaN</td>\n",
       "      <td>NaN</td>\n",
       "      <td>participant</td>\n",
       "      <td>NaN</td>\n",
       "    </tr>\n",
       "    <tr>\n",
       "      <th>sgsfak</th>\n",
       "      <td>NaN</td>\n",
       "      <td>NaN</td>\n",
       "      <td>Stelios</td>\n",
       "      <td>Sfakianakis</td>\n",
       "      <td>NaN</td>\n",
       "      <td>NaN</td>\n",
       "      <td>NaN</td>\n",
       "      <td>NaN</td>\n",
       "      <td>NaN</td>\n",
       "      <td>NaN</td>\n",
       "      <td>NaN</td>\n",
       "      <td>participant</td>\n",
       "      <td>NaN</td>\n",
       "      <td>NaN</td>\n",
       "      <td>NaN</td>\n",
       "      <td>NaN</td>\n",
       "    </tr>\n",
       "    <tr>\n",
       "      <th>tallmar</th>\n",
       "      <td>NaN</td>\n",
       "      <td>NaN</td>\n",
       "      <td>Marta</td>\n",
       "      <td>Lloret Llinares</td>\n",
       "      <td>NaN</td>\n",
       "      <td>NaN</td>\n",
       "      <td>NaN</td>\n",
       "      <td>NaN</td>\n",
       "      <td>NaN</td>\n",
       "      <td>NaN</td>\n",
       "      <td>NaN</td>\n",
       "      <td>NaN</td>\n",
       "      <td>NaN</td>\n",
       "      <td>NaN</td>\n",
       "      <td>expert</td>\n",
       "      <td>NaN</td>\n",
       "    </tr>\n",
       "    <tr>\n",
       "      <th>umar-farouk-ahmad</th>\n",
       "      <td>NaN</td>\n",
       "      <td>NaN</td>\n",
       "      <td>Umar Farouk</td>\n",
       "      <td>Ahmad</td>\n",
       "      <td>NaN</td>\n",
       "      <td>NaN</td>\n",
       "      <td>NaN</td>\n",
       "      <td>NaN</td>\n",
       "      <td>NaN</td>\n",
       "      <td>NaN</td>\n",
       "      <td>NaN</td>\n",
       "      <td>NaN</td>\n",
       "      <td>NaN</td>\n",
       "      <td>NaN</td>\n",
       "      <td>participant</td>\n",
       "      <td>NaN</td>\n",
       "    </tr>\n",
       "    <tr>\n",
       "      <th>usmood</th>\n",
       "      <td>NaN</td>\n",
       "      <td>NaN</td>\n",
       "      <td>Mahmood</td>\n",
       "      <td>Usman</td>\n",
       "      <td>Kano</td>\n",
       "      <td>NaN</td>\n",
       "      <td>NaN</td>\n",
       "      <td>NaN</td>\n",
       "      <td>NaN</td>\n",
       "      <td>NaN</td>\n",
       "      <td>NaN</td>\n",
       "      <td>NaN</td>\n",
       "      <td>NaN</td>\n",
       "      <td>NaN</td>\n",
       "      <td>participant</td>\n",
       "      <td>NaN</td>\n",
       "    </tr>\n",
       "  </tbody>\n",
       "</table>\n",
       "<p>422 rows × 16 columns</p>\n",
       "</div>"
      ],
      "text/plain": [
       "                           city        country   first-name        last-name  \\\n",
       "0sahene                  Tamale          Ghana      Sitsofe           Morgah   \n",
       "0x174                    Boston  United States      William          Jackson   \n",
       "abdulelahsm              Dammam   Saudi Arabia    Abdulelah        Al Mesfer   \n",
       "abraham-dabengwa   Johannesburg   South Africa      Abraham         Dabengwa   \n",
       "abretaud                 Rennes         France      Anthony       Bretaudeau   \n",
       "...                         ...            ...          ...              ...   \n",
       "rhoné-roux                  NaN            NaN        Rhoné             Roux   \n",
       "sgsfak                      NaN            NaN      Stelios      Sfakianakis   \n",
       "tallmar                     NaN            NaN        Marta  Lloret Llinares   \n",
       "umar-farouk-ahmad           NaN            NaN  Umar Farouk            Ahmad   \n",
       "usmood                      NaN            NaN      Mahmood            Usman   \n",
       "\n",
       "                  pronouns country-alpha_3      continent  longitude  \\\n",
       "0sahene                 He             GHA         Africa  -0.842399   \n",
       "0x174               He/Him             USA  North America -71.060511   \n",
       "abdulelahsm         he/him             SAU           Asia  50.103999   \n",
       "abraham-dabengwa   he/ him             ZAF         Africa  28.049722   \n",
       "abretaud            He/him             FRA         Europe  -1.680020   \n",
       "...                    ...             ...            ...        ...   \n",
       "rhoné-roux             NaN             NaN            NaN        NaN   \n",
       "sgsfak                 NaN             NaN            NaN        NaN   \n",
       "tallmar                NaN             NaN            NaN        NaN   \n",
       "umar-farouk-ahmad      NaN             NaN            NaN        NaN   \n",
       "usmood                Kano             NaN            NaN        NaN   \n",
       "\n",
       "                    latitude ols-1 ols-2        ols-3   ols-4        ols-5  \\\n",
       "0sahene             9.405199   NaN   NaN          NaN     NaN  participant   \n",
       "0x174              42.355433   NaN   NaN  participant     NaN          NaN   \n",
       "abdulelahsm        26.436782   NaN   NaN  participant     NaN          NaN   \n",
       "abraham-dabengwa  -26.205000   NaN   NaN          NaN     NaN  participant   \n",
       "abretaud           48.111339   NaN   NaN          NaN  mentor          NaN   \n",
       "...                      ...   ...   ...          ...     ...          ...   \n",
       "rhoné-roux               NaN   NaN   NaN          NaN     NaN          NaN   \n",
       "sgsfak                   NaN   NaN   NaN  participant     NaN          NaN   \n",
       "tallmar                  NaN   NaN   NaN          NaN     NaN          NaN   \n",
       "umar-farouk-ahmad        NaN   NaN   NaN          NaN     NaN          NaN   \n",
       "usmood                   NaN   NaN   NaN          NaN     NaN          NaN   \n",
       "\n",
       "                         ols-6 ols-7  \n",
       "0sahene                    NaN   NaN  \n",
       "0x174                      NaN   NaN  \n",
       "abdulelahsm                NaN   NaN  \n",
       "abraham-dabengwa           NaN   NaN  \n",
       "abretaud                   NaN   NaN  \n",
       "...                        ...   ...  \n",
       "rhoné-roux         participant   NaN  \n",
       "sgsfak                     NaN   NaN  \n",
       "tallmar                 expert   NaN  \n",
       "umar-farouk-ahmad  participant   NaN  \n",
       "usmood             participant   NaN  \n",
       "\n",
       "[422 rows x 16 columns]"
      ]
     },
     "execution_count": 12,
     "metadata": {},
     "output_type": "execute_result"
    }
   ],
   "source": [
    "people_df"
   ]
  },
  {
   "cell_type": "markdown",
   "id": "70093f1d",
   "metadata": {},
   "source": [
    "# Locations"
   ]
  },
  {
   "cell_type": "markdown",
   "id": "a082b2c6",
   "metadata": {},
   "source": [
    "## Countries"
   ]
  },
  {
   "cell_type": "markdown",
   "id": "60368f52",
   "metadata": {},
   "source": [
    "Proportion of people without country information"
   ]
  },
  {
   "cell_type": "code",
   "execution_count": 18,
   "id": "dbbd4527",
   "metadata": {},
   "outputs": [
    {
     "data": {
      "text/plain": [
       "0.052132701421800945"
      ]
     },
     "execution_count": 18,
     "metadata": {},
     "output_type": "execute_result"
    }
   ],
   "source": [
    "people_df.country.isna().sum() / len(people_df.country)"
   ]
  },
  {
   "cell_type": "markdown",
   "id": "73bd540d",
   "metadata": {},
   "source": [
    "Country repartition"
   ]
  },
  {
   "cell_type": "code",
   "execution_count": 13,
   "id": "626bc7aa",
   "metadata": {
    "scrolled": false
   },
   "outputs": [
    {
     "data": {
      "text/plain": [
       "country\n",
       "Argentina             13\n",
       "Australia              8\n",
       "Austria                1\n",
       "Bangladesh             1\n",
       "Belgium                2\n",
       "Benin                  1\n",
       "Bolivia                5\n",
       "Brazil                12\n",
       "Cameroon               2\n",
       "Canada                14\n",
       "China                  1\n",
       "Colombia               1\n",
       "Czechia                4\n",
       "Estonia                1\n",
       "Ethiopia               1\n",
       "France                 9\n",
       "Germany               29\n",
       "Ghana                  3\n",
       "Greece                 3\n",
       "India                 20\n",
       "Indonesia              4\n",
       "Ireland                2\n",
       "Italy                  8\n",
       "Japan                  1\n",
       "Kazakhstan             1\n",
       "Kenya                 15\n",
       "Luxembourg             1\n",
       "Mali                   2\n",
       "Mexico                 2\n",
       "Nepal                  4\n",
       "Netherlands           19\n",
       "Nigeria                6\n",
       "Norway                 3\n",
       "Peru                   7\n",
       "Poland                 1\n",
       "Portugal               2\n",
       "Russian Federation     1\n",
       "Saudi Arabia           4\n",
       "Singapore              1\n",
       "South Africa          14\n",
       "South Korea            1\n",
       "Spain                 15\n",
       "Sweden                 2\n",
       "Switzerland            9\n",
       "Thailand               1\n",
       "Turkey                 6\n",
       "Uganda                 1\n",
       "United Kingdom        89\n",
       "United States         46\n",
       "Uzbekistan             1\n",
       "dtype: int64"
      ]
     },
     "execution_count": 13,
     "metadata": {},
     "output_type": "execute_result"
    }
   ],
   "source": [
    "people_df.groupby(['country']).size()"
   ]
  },
  {
   "cell_type": "code",
   "execution_count": 28,
   "id": "34018e48",
   "metadata": {},
   "outputs": [
    {
     "data": {
      "text/plain": [
       "country\n",
       "Argentina              3.080569\n",
       "Australia              1.895735\n",
       "Austria                0.236967\n",
       "Bangladesh             0.236967\n",
       "Belgium                0.473934\n",
       "Benin                  0.236967\n",
       "Bolivia                1.184834\n",
       "Brazil                 2.843602\n",
       "Cameroon               0.473934\n",
       "Canada                 3.317536\n",
       "China                  0.236967\n",
       "Colombia               0.236967\n",
       "Czechia                0.947867\n",
       "Estonia                0.236967\n",
       "Ethiopia               0.236967\n",
       "France                 2.132701\n",
       "Germany                6.872038\n",
       "Ghana                  0.710900\n",
       "Greece                 0.710900\n",
       "India                  4.739336\n",
       "Indonesia              0.947867\n",
       "Ireland                0.473934\n",
       "Italy                  1.895735\n",
       "Japan                  0.236967\n",
       "Kazakhstan             0.236967\n",
       "Kenya                  3.554502\n",
       "Luxembourg             0.236967\n",
       "Mali                   0.473934\n",
       "Mexico                 0.473934\n",
       "Nepal                  0.947867\n",
       "Netherlands            4.502370\n",
       "Nigeria                1.421801\n",
       "Norway                 0.710900\n",
       "Peru                   1.658768\n",
       "Poland                 0.236967\n",
       "Portugal               0.473934\n",
       "Russian Federation     0.236967\n",
       "Saudi Arabia           0.947867\n",
       "Singapore              0.236967\n",
       "South Africa           3.317536\n",
       "South Korea            0.236967\n",
       "Spain                  3.554502\n",
       "Sweden                 0.473934\n",
       "Switzerland            2.132701\n",
       "Thailand               0.236967\n",
       "Turkey                 1.421801\n",
       "Uganda                 0.236967\n",
       "United Kingdom        21.090047\n",
       "United States         10.900474\n",
       "Uzbekistan             0.236967\n",
       "dtype: float64"
      ]
     },
     "execution_count": 28,
     "metadata": {},
     "output_type": "execute_result"
    }
   ],
   "source": [
    "100 * people_df.groupby(['country']).size()  / len(people_df.country)"
   ]
  },
  {
   "cell_type": "markdown",
   "id": "8c3d16c4",
   "metadata": {},
   "source": [
    "## Continents"
   ]
  },
  {
   "cell_type": "markdown",
   "id": "486e5e27",
   "metadata": {},
   "source": [
    "Proportion of people without continent information"
   ]
  },
  {
   "cell_type": "code",
   "execution_count": 21,
   "id": "ddfc88e5",
   "metadata": {},
   "outputs": [
    {
     "data": {
      "text/plain": [
       "0.06635071090047394"
      ]
     },
     "execution_count": 21,
     "metadata": {},
     "output_type": "execute_result"
    }
   ],
   "source": [
    "people_df.continent.isna().sum() / len(people_df.continent)"
   ]
  },
  {
   "cell_type": "markdown",
   "id": "e524165a",
   "metadata": {},
   "source": [
    "Continent repartition"
   ]
  },
  {
   "cell_type": "code",
   "execution_count": 25,
   "id": "29861a06",
   "metadata": {},
   "outputs": [
    {
     "data": {
      "text/plain": [
       "continent\n",
       "Africa            45\n",
       "Asia              45\n",
       "Europe           201\n",
       "North America     62\n",
       "Oceania            8\n",
       "South America     33\n",
       "dtype: int64"
      ]
     },
     "execution_count": 25,
     "metadata": {},
     "output_type": "execute_result"
    }
   ],
   "source": [
    "people_df.groupby(['continent']).size()"
   ]
  },
  {
   "cell_type": "code",
   "execution_count": 26,
   "id": "3a3c9005",
   "metadata": {},
   "outputs": [
    {
     "data": {
      "text/plain": [
       "continent\n",
       "Africa           10.663507\n",
       "Asia             10.663507\n",
       "Europe           47.630332\n",
       "North America    14.691943\n",
       "Oceania           1.895735\n",
       "South America     7.819905\n",
       "dtype: float64"
      ]
     },
     "execution_count": 26,
     "metadata": {},
     "output_type": "execute_result"
    }
   ],
   "source": [
    "100 * people_df.groupby(['continent']).size() / len(people_df.continent)"
   ]
  }
 ],
 "metadata": {
  "kernelspec": {
   "display_name": "Python 3 (ipykernel)",
   "language": "python",
   "name": "python3"
  },
  "language_info": {
   "codemirror_mode": {
    "name": "ipython",
    "version": 3
   },
   "file_extension": ".py",
   "mimetype": "text/x-python",
   "name": "python",
   "nbconvert_exporter": "python",
   "pygments_lexer": "ipython3",
   "version": "3.11.0"
  }
 },
 "nbformat": 4,
 "nbformat_minor": 5
}
